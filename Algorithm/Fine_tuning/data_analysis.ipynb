{
 "cells": [
  {
   "cell_type": "code",
   "execution_count": 7,
   "metadata": {},
   "outputs": [
    {
     "name": "stderr",
     "output_type": "stream",
     "text": [
      "d:\\Backend_insurance\\insurance\\Lib\\site-packages\\tqdm\\auto.py:21: TqdmWarning: IProgress not found. Please update jupyter and ipywidgets. See https://ipywidgets.readthedocs.io/en/stable/user_install.html\n",
      "  from .autonotebook import tqdm as notebook_tqdm\n"
     ]
    }
   ],
   "source": [
    "import pandas as pd\n",
    "from datasets import DatasetDict, Dataset\n",
    "import re"
   ]
  },
  {
   "cell_type": "code",
   "execution_count": 8,
   "metadata": {},
   "outputs": [],
   "source": [
    "data = pd.read_excel(r\"D:\\jincheng_project\\Analysiss.xlsx\")"
   ]
  },
  {
   "cell_type": "code",
   "execution_count": 9,
   "metadata": {},
   "outputs": [],
   "source": [
    "\n",
    "# Remove special chars\n",
    "data[\"title\"] = data[\"title\"].apply(lambda x: re.sub(r'[\\u200b-\\u200f\\u202a-\\u202e]', '', str(x)))\n",
    "data[\"content\"] = data[\"content\"].apply(lambda x: re.sub(r'[\\u200b-\\u200f\\u202a-\\u202e]', '', str(x)))\n",
    "\n",
    "# --- Define a PROMPT TEMPLATE ---\n",
    "def format_question(row):\n",
    "    return (\n",
    "        f\"根据以下信息回答问题：\\n\"\n",
    "        f\"标题: {row['title']}\\n\"\n",
    "        f\"内容: {row['content']}\\n\"\n",
    "        f\"问题类型: {row['type_name']}\\n\"\n",
    "        f\"地区: {row['af_address']}\\n\"\n",
    "        f\"请问如何处理此问题？\"\n",
    "    )\n",
    "\n",
    "# Apply formatting\n",
    "data[\"question\"] = data.apply(format_question, axis=1)  # Question\n",
    "data[\"response\"] = data[\"jian_cha_info\"]               # Answer\n",
    "\n",
    "# Drop missing outputs\n",
    "data = data.dropna(subset=[\"response\"])  # or fill with \"无回复\"\n",
    "\n",
    "# Convert to HuggingFace Dataset\n",
    "dataset = Dataset.from_pandas(data[[\"question\", \"response\"]])\n",
    "# dataset = dataset.train_test_split(test_size=0, seed=42)"
   ]
  },
  {
   "cell_type": "code",
   "execution_count": 10,
   "metadata": {},
   "outputs": [
    {
     "name": "stdout",
     "output_type": "stream",
     "text": [
      "DatasetDict({\n",
      "    train: Dataset({\n",
      "        features: ['Question', 'Response'],\n",
      "        num_rows: 37624\n",
      "    })\n",
      "})\n"
     ]
    }
   ],
   "source": [
    "formatted_data = pd.DataFrame({\n",
    "    'Question': dataset['question'],\n",
    "    'Response': dataset['response']\n",
    "})\n",
    "\n",
    "# Convert to HuggingFace Dataset\n",
    "formatted_dataset = Dataset.from_pandas(formatted_data)\n",
    "\n",
    "# Create DatasetDict with only train split\n",
    "final_dataset = DatasetDict({\n",
    "    'train': formatted_dataset\n",
    "})\n",
    "\n",
    "# Verify the structure\n",
    "print(final_dataset)"
   ]
  },
  {
   "cell_type": "code",
   "execution_count": 11,
   "metadata": {},
   "outputs": [
    {
     "name": "stderr",
     "output_type": "stream",
     "text": [
      "Saving the dataset (1/1 shards): 100%|██████████| 37624/37624 [00:00<00:00, 2745129.14 examples/s]"
     ]
    },
    {
     "name": "stdout",
     "output_type": "stream",
     "text": [
      "Dataset saved to dataset\n"
     ]
    },
    {
     "name": "stderr",
     "output_type": "stream",
     "text": [
      "\n"
     ]
    }
   ],
   "source": [
    "from datasets import load_from_disk, DatasetDict\n",
    "\n",
    "# Assuming final_dataset is your DatasetDict and you want to save it to a folder named 'my_dataset_folder'\n",
    "save_path = 'dataset'\n",
    "\n",
    "# Save the dataset to the specified folder\n",
    "final_dataset.save_to_disk(save_path)\n",
    "\n",
    "print(f\"Dataset saved to {save_path}\")\n"
   ]
  },
  {
   "cell_type": "code",
   "execution_count": null,
   "metadata": {},
   "outputs": [],
   "source": []
  }
 ],
 "metadata": {
  "kernelspec": {
   "display_name": "insurance",
   "language": "python",
   "name": "python3"
  },
  "language_info": {
   "codemirror_mode": {
    "name": "ipython",
    "version": 3
   },
   "file_extension": ".py",
   "mimetype": "text/x-python",
   "name": "python",
   "nbconvert_exporter": "python",
   "pygments_lexer": "ipython3",
   "version": "3.12.8"
  }
 },
 "nbformat": 4,
 "nbformat_minor": 2
}
