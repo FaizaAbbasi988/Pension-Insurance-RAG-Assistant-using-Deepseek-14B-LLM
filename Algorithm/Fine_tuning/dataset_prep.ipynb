{
 "cells": [
  {
   "cell_type": "code",
   "execution_count": null,
   "metadata": {},
   "outputs": [
    {
     "ename": "",
     "evalue": "",
     "output_type": "error",
     "traceback": [
      "\u001b[1;31mRunning cells with 'Python 3.12.8' requires the ipykernel package.\n",
      "\u001b[1;31mInstall 'ipykernel' into the Python environment. \n",
      "\u001b[1;31mCommand: 'c:/Users/LR/AppData/Local/Programs/Python/Python312/python.exe -m pip install ipykernel -U --user --force-reinstall'"
     ]
    }
   ],
   "source": [
    "import pandas as pd\n",
    "from datasets import DatasetDict, Dataset\n",
    "import re"
   ]
  },
  {
   "cell_type": "code",
   "execution_count": null,
   "metadata": {},
   "outputs": [
    {
     "name": "stderr",
     "output_type": "stream",
     "text": [
      "d:\\jincheng_project\\jincheng\\Lib\\site-packages\\openpyxl\\styles\\stylesheet.py:237: UserWarning: Workbook contains no default style, apply openpyxl's default\n",
      "  warn(\"Workbook contains no default style, apply openpyxl's default\")\n"
     ]
    }
   ],
   "source": [
    "\n",
    "\n",
    "# Load and clean data\n",
    "data = pd.read_excel(r\"D:\\jincheng_project\\data.xlsx\")  \n",
    "\n",
    "# Remove special chars\n",
    "data[\"title\"] = data[\"title\"].apply(lambda x: re.sub(r'[\\u200b-\\u200f\\u202a-\\u202e]', '', str(x)))\n",
    "data[\"content\"] = data[\"content\"].apply(lambda x: re.sub(r'[\\u200b-\\u200f\\u202a-\\u202e]', '', str(x)))\n",
    "\n",
    "# --- Define a PROMPT TEMPLATE ---\n",
    "def format_question(row):\n",
    "    return (\n",
    "        f\"根据以下信息回答问题：\\n\"\n",
    "        f\"标题: {row['title']}\\n\"\n",
    "        f\"内容: {row['content']}\\n\"\n",
    "        f\"问题类型: {row['type_name']}\\n\"\n",
    "        f\"地区: {row['af_address']}\\n\"\n",
    "        f\"请问如何处理此问题？\"\n",
    "    )\n",
    "\n",
    "# Apply formatting\n",
    "data[\"question\"] = data.apply(format_question, axis=1)  # Question\n",
    "data[\"response\"] = data[\"jian_cha_info\"]               # Answer\n",
    "\n",
    "# Drop missing outputs\n",
    "data = data.dropna(subset=[\"response\"])  # or fill with \"无回复\"\n",
    "\n",
    "# Convert to HuggingFace Dataset\n",
    "dataset = Dataset.from_pandas(data[[\"question\", \"response\"]])\n",
    "# dataset = dataset.train_test_split(test_size=0, seed=42)\n",
    "\n"
   ]
  },
  {
   "cell_type": "code",
   "execution_count": null,
   "metadata": {},
   "outputs": [
    {
     "name": "stdout",
     "output_type": "stream",
     "text": [
      "DatasetDict({\n",
      "    train: Dataset({\n",
      "        features: ['Question', 'Response'],\n",
      "        num_rows: 39578\n",
      "    })\n",
      "})\n"
     ]
    }
   ],
   "source": [
    "formatted_data = pd.DataFrame({\n",
    "    'Question': dataset['question'],\n",
    "    'Response': dataset['response']\n",
    "})\n",
    "\n",
    "# Convert to HuggingFace Dataset\n",
    "formatted_dataset = Dataset.from_pandas(formatted_data)\n",
    "\n",
    "# Create DatasetDict with only train split\n",
    "final_dataset = DatasetDict({\n",
    "    'train': formatted_dataset\n",
    "})\n",
    "\n",
    "# Verify the structure\n",
    "print(final_dataset)"
   ]
  }
 ],
 "metadata": {
  "kernelspec": {
   "display_name": "Python 3",
   "language": "python",
   "name": "python3"
  },
  "language_info": {
   "codemirror_mode": {
    "name": "ipython",
    "version": 3
   },
   "file_extension": ".py",
   "mimetype": "text/x-python",
   "name": "python",
   "nbconvert_exporter": "python",
   "pygments_lexer": "ipython3",
   "version": "3.12.8"
  }
 },
 "nbformat": 4,
 "nbformat_minor": 2
}
